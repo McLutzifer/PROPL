{
 "cells": [
  {
   "cell_type": "markdown",
   "id": "finnish-mattress",
   "metadata": {},
   "source": [
    "# 1 Check the Python version and import pandas und fbprophet"
   ]
  },
  {
   "cell_type": "code",
   "execution_count": 4,
   "id": "sunset-stanford",
   "metadata": {},
   "outputs": [],
   "source": [
    "import sys"
   ]
  },
  {
   "cell_type": "code",
   "execution_count": 5,
   "id": "mobile-canada",
   "metadata": {},
   "outputs": [
    {
     "data": {
      "text/plain": [
       "'3.7.10 (default, Feb 26 2021, 18:47:35) \\n[GCC 7.3.0]'"
      ]
     },
     "execution_count": 5,
     "metadata": {},
     "output_type": "execute_result"
    }
   ],
   "source": [
    "sys.version"
   ]
  },
  {
   "cell_type": "code",
   "execution_count": 6,
   "id": "romance-width",
   "metadata": {},
   "outputs": [],
   "source": [
    "import pandas as pd\n",
    "import holidays\n",
    "from fbprophet import Prophet"
   ]
  },
  {
   "cell_type": "markdown",
   "id": "sunset-jamaica",
   "metadata": {},
   "source": [
    "# 2 Load the data"
   ]
  },
  {
   "cell_type": "code",
   "execution_count": 7,
   "id": "cubic-roots",
   "metadata": {},
   "outputs": [],
   "source": [
    "df = pd.read_csv('example_wp_log_peyton_manning.csv')\n",
    "df.head()\n",
    "#df.set_index('ds').plot(figsize=(12, 9))"
   ]
  },
  {
   "cell_type": "markdown",
   "id": "compressed-blind",
   "metadata": {},
   "source": [
    "# 3 Select a specific period"
   ]
  },
  {
   "cell_type": "code",
   "execution_count": null,
   "id": "cheap-omega",
   "metadata": {},
   "outputs": [],
   "source": [
    "df_2016=df\n",
    "df_2016['ds']=pd.to_datetime(df_2016['ds'])\n",
    "df_2016.dtypes"
   ]
  }
 ],
 "metadata": {
  "kernelspec": {
   "display_name": "Python 3",
   "language": "python",
   "name": "python3"
  },
  "language_info": {
   "codemirror_mode": {
    "name": "ipython",
    "version": 3
   },
   "file_extension": ".py",
   "mimetype": "text/x-python",
   "name": "python",
   "nbconvert_exporter": "python",
   "pygments_lexer": "ipython3",
   "version": "3.7.10"
  }
 },
 "nbformat": 4,
 "nbformat_minor": 5
}
