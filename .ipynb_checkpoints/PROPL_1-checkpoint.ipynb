{
 "cells": [
  {
   "cell_type": "markdown",
   "id": "multiple-bleeding",
   "metadata": {},
   "source": [
    "# 1 Check the Python version and import pandas und fbprophet"
   ]
  },
  {
   "cell_type": "code",
   "execution_count": 4,
   "id": "bridal-camping",
   "metadata": {},
   "outputs": [],
   "source": [
    "import sys"
   ]
  },
  {
   "cell_type": "code",
   "execution_count": 5,
   "id": "historical-artist",
   "metadata": {},
   "outputs": [
    {
     "data": {
      "text/plain": [
       "'3.7.10 (default, Feb 26 2021, 18:47:35) \\n[GCC 7.3.0]'"
      ]
     },
     "execution_count": 5,
     "metadata": {},
     "output_type": "execute_result"
    }
   ],
   "source": [
    "sys.version"
   ]
  },
  {
   "cell_type": "code",
   "execution_count": 6,
   "id": "identified-square",
   "metadata": {},
   "outputs": [],
   "source": [
    "import pandas as pd\n",
    "import holidays\n",
    "from fbprophet import Prophet"
   ]
  },
  {
   "cell_type": "markdown",
   "id": "champion-karaoke",
   "metadata": {},
   "source": [
    "# 2 Load the data"
   ]
  },
  {
   "cell_type": "code",
   "execution_count": 7,
   "id": "color-graph",
   "metadata": {},
   "outputs": [],
   "source": [
    "df = pd.read_csv('example_wp_log_peyton_manning.csv')\n",
    "df.head()\n",
    "#df.set_index('ds').plot(figsize=(12, 9))"
   ]
  },
  {
   "cell_type": "markdown",
   "id": "logical-medicaid",
   "metadata": {},
   "source": [
    "# 3 Select a specific period"
   ]
  },
  {
   "cell_type": "code",
   "execution_count": null,
   "id": "victorian-census",
   "metadata": {},
   "outputs": [],
   "source": [
    "df_2016=df\n",
    "df_2016['ds']=pd.to_datetime(df_2016['ds'])\n",
    "df_2016.dtypes\n",
    "df_2016=df_2016[df_2016['ds'].dt.year>=2014]\n",
    "df_2016.head()\n",
    "df_2016.set_index('ds').plot(figsize=(12, 9))"
   ]
  }
 ],
 "metadata": {
  "kernelspec": {
   "display_name": "Python 3",
   "language": "python",
   "name": "python3"
  },
  "language_info": {
   "codemirror_mode": {
    "name": "ipython",
    "version": 3
   },
   "file_extension": ".py",
   "mimetype": "text/x-python",
   "name": "python",
   "nbconvert_exporter": "python",
   "pygments_lexer": "ipython3",
   "version": "3.7.10"
  }
 },
 "nbformat": 4,
 "nbformat_minor": 5
}
