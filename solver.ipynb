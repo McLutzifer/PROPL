{
 "cells": [
  {
   "cell_type": "code",
   "execution_count": 3,
   "id": "offshore-musical",
   "metadata": {},
   "outputs": [],
   "source": [
    "from mip import *"
   ]
  },
  {
   "cell_type": "code",
   "execution_count": 4,
   "id": "related-western",
   "metadata": {},
   "outputs": [],
   "source": [
    "n=2\n",
    "m=3\n",
    "N=range(n)\n",
    "M=range(m)\n",
    "Name=[\"Winter\", \"Summer\"]\n",
    "DB = [15000, 17000]\n",
    "R = [[23.5 , 20.0], [25.0, 35.0], [15.0,7.5]]\n",
    "LB = [180,300]\n",
    "K=[18800, 2800, 9900]"
   ]
  },
  {
   "cell_type": "code",
   "execution_count": 5,
   "id": "continuing-spending",
   "metadata": {},
   "outputs": [],
   "source": [
    "m = Model(\"App Tires Inc.\")"
   ]
  },
  {
   "cell_type": "code",
   "execution_count": null,
   "id": "imported-treasury",
   "metadata": {},
   "outputs": [],
   "source": [
    "X = [m.add_var(name=name[i])]"
   ]
  }
 ],
 "metadata": {
  "kernelspec": {
   "display_name": "Python 3",
   "language": "python",
   "name": "python3"
  },
  "language_info": {
   "codemirror_mode": {
    "name": "ipython",
    "version": 3
   },
   "file_extension": ".py",
   "mimetype": "text/x-python",
   "name": "python",
   "nbconvert_exporter": "python",
   "pygments_lexer": "ipython3",
   "version": "3.7.10"
  }
 },
 "nbformat": 4,
 "nbformat_minor": 5
}
