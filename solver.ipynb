{
 "cells": [
  {
   "cell_type": "code",
   "execution_count": 3,
   "id": "missing-saudi",
   "metadata": {},
   "outputs": [],
   "source": [
    "from mip import *"
   ]
  },
  {
   "cell_type": "code",
   "execution_count": 4,
   "id": "swiss-better",
   "metadata": {},
   "outputs": [],
   "source": [
    "n=2\n",
    "m=3\n",
    "N=range(n)\n",
    "M=range(m)\n",
    "Name=[\"Winter\", \"Summer\"]\n",
    "DB = [15000, 17000]\n",
    "R = [[23.5 , 20.0], [25.0, 35.0], [15.0,7.5]]\n",
    "LB = [180,300]\n",
    "K=[18800, 2800, 9900]"
   ]
  },
  {
   "cell_type": "code",
   "execution_count": 5,
   "id": "southern-clock",
   "metadata": {},
   "outputs": [],
   "source": [
    "m = Model(\"App Tires Inc.\")"
   ]
  },
  {
   "cell_type": "code",
   "execution_count": 6,
   "id": "built-tracy",
   "metadata": {},
   "outputs": [
    {
     "ename": "NameError",
     "evalue": "name 'i' is not defined",
     "output_type": "error",
     "traceback": [
      "\u001b[0;31m---------------------------------------------------------------------------\u001b[0m",
      "\u001b[0;31mNameError\u001b[0m                                 Traceback (most recent call last)",
      "\u001b[0;32m<ipython-input-6-a71080a100d1>\u001b[0m in \u001b[0;36m<module>\u001b[0;34m\u001b[0m\n\u001b[0;32m----> 1\u001b[0;31m \u001b[0mX\u001b[0m \u001b[0;34m=\u001b[0m \u001b[0;34m[\u001b[0m\u001b[0mm\u001b[0m\u001b[0;34m.\u001b[0m\u001b[0madd_var\u001b[0m\u001b[0;34m(\u001b[0m\u001b[0mname\u001b[0m\u001b[0;34m=\u001b[0m\u001b[0mname\u001b[0m\u001b[0;34m[\u001b[0m\u001b[0mi\u001b[0m\u001b[0;34m]\u001b[0m\u001b[0;34m)\u001b[0m\u001b[0;34m]\u001b[0m\u001b[0;34m\u001b[0m\u001b[0;34m\u001b[0m\u001b[0m\n\u001b[0m",
      "\u001b[0;31mNameError\u001b[0m: name 'i' is not defined"
     ]
    }
   ],
   "source": [
    "X = [m.add_var(name=name[i])]"
   ]
  },
  {
   "cell_type": "code",
   "execution_count": null,
   "id": "collect-hello",
   "metadata": {},
   "outputs": [],
   "source": []
  }
 ],
 "metadata": {
  "kernelspec": {
   "display_name": "Python 3",
   "language": "python",
   "name": "python3"
  },
  "language_info": {
   "codemirror_mode": {
    "name": "ipython",
    "version": 3
   },
   "file_extension": ".py",
   "mimetype": "text/x-python",
   "name": "python",
   "nbconvert_exporter": "python",
   "pygments_lexer": "ipython3",
   "version": "3.7.10"
  }
 },
 "nbformat": 4,
 "nbformat_minor": 5
}
